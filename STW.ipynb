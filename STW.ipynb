{
 "cells": [
  {
   "cell_type": "code",
   "execution_count": 1,
   "metadata": {},
   "outputs": [],
   "source": [
    "import pandas as pd\n",
    "import glob\n",
    "import numpy as np\n",
    "from sklearn import linear_model"
   ]
  },
  {
   "cell_type": "raw",
   "metadata": {},
   "source": [
    "Reduced data rate of SBG data to match ADCP data so it's easier to look at. HFRadar data is already interpolated and included as V_current and U_Current. All data uses knots."
   ]
  },
  {
   "cell_type": "code",
   "execution_count": 2,
   "metadata": {},
   "outputs": [
    {
     "data": {
      "text/html": [
       "<div>\n",
       "<style scoped>\n",
       "    .dataframe tbody tr th:only-of-type {\n",
       "        vertical-align: middle;\n",
       "    }\n",
       "\n",
       "    .dataframe tbody tr th {\n",
       "        vertical-align: top;\n",
       "    }\n",
       "\n",
       "    .dataframe thead th {\n",
       "        text-align: right;\n",
       "    }\n",
       "</style>\n",
       "<table border=\"1\" class=\"dataframe\">\n",
       "  <thead>\n",
       "    <tr style=\"text-align: right;\">\n",
       "      <th></th>\n",
       "      <th>V_Current</th>\n",
       "      <th>U_Current</th>\n",
       "      <th>SBG EKF Velocity N</th>\n",
       "      <th>SBG EKF Velocity E</th>\n",
       "      <th>SBG EKF Velocity N Acc</th>\n",
       "      <th>SBG EKF Velocity E Acc</th>\n",
       "      <th>SBG EKF Latitude</th>\n",
       "      <th>SBG EKF Longitude</th>\n",
       "      <th>SBG Heading2</th>\n",
       "      <th>OD19_TRUE_WIND_SPEED</th>\n",
       "      <th>OD19_TRUE_WIND_DIRECTION</th>\n",
       "      <th>ADCP_DC3_V2</th>\n",
       "      <th>ADCP_DC4_V2</th>\n",
       "    </tr>\n",
       "    <tr>\n",
       "      <th>Time</th>\n",
       "      <th></th>\n",
       "      <th></th>\n",
       "      <th></th>\n",
       "      <th></th>\n",
       "      <th></th>\n",
       "      <th></th>\n",
       "      <th></th>\n",
       "      <th></th>\n",
       "      <th></th>\n",
       "      <th></th>\n",
       "      <th></th>\n",
       "      <th></th>\n",
       "      <th></th>\n",
       "    </tr>\n",
       "  </thead>\n",
       "  <tbody>\n",
       "    <tr>\n",
       "      <th>1.474111e+09</th>\n",
       "      <td>-0.019539</td>\n",
       "      <td>-0.312082</td>\n",
       "      <td>16.272120</td>\n",
       "      <td>0.220167</td>\n",
       "      <td>0.098420</td>\n",
       "      <td>0.098593</td>\n",
       "      <td>32.696253</td>\n",
       "      <td>-117.807653</td>\n",
       "      <td>357.98</td>\n",
       "      <td>7.338659</td>\n",
       "      <td>291.86526</td>\n",
       "      <td>16.389969</td>\n",
       "      <td>16.409409</td>\n",
       "    </tr>\n",
       "    <tr>\n",
       "      <th>1.474111e+09</th>\n",
       "      <td>-0.019536</td>\n",
       "      <td>-0.312305</td>\n",
       "      <td>16.415127</td>\n",
       "      <td>0.158491</td>\n",
       "      <td>0.098165</td>\n",
       "      <td>0.098338</td>\n",
       "      <td>32.696329</td>\n",
       "      <td>-117.807652</td>\n",
       "      <td>357.94</td>\n",
       "      <td>7.077789</td>\n",
       "      <td>294.14322</td>\n",
       "      <td>16.432737</td>\n",
       "      <td>16.393857</td>\n",
       "    </tr>\n",
       "    <tr>\n",
       "      <th>1.474112e+09</th>\n",
       "      <td>-0.019534</td>\n",
       "      <td>-0.312528</td>\n",
       "      <td>16.536410</td>\n",
       "      <td>-0.020466</td>\n",
       "      <td>0.097941</td>\n",
       "      <td>0.098115</td>\n",
       "      <td>32.696405</td>\n",
       "      <td>-117.807651</td>\n",
       "      <td>357.86</td>\n",
       "      <td>7.108053</td>\n",
       "      <td>297.96850</td>\n",
       "      <td>16.459953</td>\n",
       "      <td>16.477449</td>\n",
       "    </tr>\n",
       "    <tr>\n",
       "      <th>1.474112e+09</th>\n",
       "      <td>-0.019532</td>\n",
       "      <td>-0.312755</td>\n",
       "      <td>16.517061</td>\n",
       "      <td>-0.082083</td>\n",
       "      <td>0.098028</td>\n",
       "      <td>0.098201</td>\n",
       "      <td>32.696482</td>\n",
       "      <td>-117.807652</td>\n",
       "      <td>357.82</td>\n",
       "      <td>7.539567</td>\n",
       "      <td>300.75003</td>\n",
       "      <td>16.551322</td>\n",
       "      <td>16.339425</td>\n",
       "    </tr>\n",
       "    <tr>\n",
       "      <th>1.474112e+09</th>\n",
       "      <td>-0.019530</td>\n",
       "      <td>-0.312981</td>\n",
       "      <td>16.462260</td>\n",
       "      <td>-0.039651</td>\n",
       "      <td>0.098249</td>\n",
       "      <td>0.098422</td>\n",
       "      <td>32.696558</td>\n",
       "      <td>-117.807652</td>\n",
       "      <td>357.79</td>\n",
       "      <td>8.194389</td>\n",
       "      <td>301.61215</td>\n",
       "      <td>16.605754</td>\n",
       "      <td>16.362753</td>\n",
       "    </tr>\n",
       "  </tbody>\n",
       "</table>\n",
       "</div>"
      ],
      "text/plain": [
       "              V_Current  U_Current  SBG EKF Velocity N  SBG EKF Velocity E  \\\n",
       "Time                                                                         \n",
       "1.474111e+09  -0.019539  -0.312082           16.272120            0.220167   \n",
       "1.474111e+09  -0.019536  -0.312305           16.415127            0.158491   \n",
       "1.474112e+09  -0.019534  -0.312528           16.536410           -0.020466   \n",
       "1.474112e+09  -0.019532  -0.312755           16.517061           -0.082083   \n",
       "1.474112e+09  -0.019530  -0.312981           16.462260           -0.039651   \n",
       "\n",
       "              SBG EKF Velocity N Acc  SBG EKF Velocity E Acc  \\\n",
       "Time                                                           \n",
       "1.474111e+09                0.098420                0.098593   \n",
       "1.474111e+09                0.098165                0.098338   \n",
       "1.474112e+09                0.097941                0.098115   \n",
       "1.474112e+09                0.098028                0.098201   \n",
       "1.474112e+09                0.098249                0.098422   \n",
       "\n",
       "              SBG EKF Latitude  SBG EKF Longitude  SBG Heading2  \\\n",
       "Time                                                              \n",
       "1.474111e+09         32.696253        -117.807653        357.98   \n",
       "1.474111e+09         32.696329        -117.807652        357.94   \n",
       "1.474112e+09         32.696405        -117.807651        357.86   \n",
       "1.474112e+09         32.696482        -117.807652        357.82   \n",
       "1.474112e+09         32.696558        -117.807652        357.79   \n",
       "\n",
       "              OD19_TRUE_WIND_SPEED  OD19_TRUE_WIND_DIRECTION  ADCP_DC3_V2  \\\n",
       "Time                                                                        \n",
       "1.474111e+09              7.338659                 291.86526    16.389969   \n",
       "1.474111e+09              7.077789                 294.14322    16.432737   \n",
       "1.474112e+09              7.108053                 297.96850    16.459953   \n",
       "1.474112e+09              7.539567                 300.75003    16.551322   \n",
       "1.474112e+09              8.194389                 301.61215    16.605754   \n",
       "\n",
       "              ADCP_DC4_V2  \n",
       "Time                       \n",
       "1.474111e+09    16.409409  \n",
       "1.474111e+09    16.393857  \n",
       "1.474112e+09    16.477449  \n",
       "1.474112e+09    16.339425  \n",
       "1.474112e+09    16.362753  "
      ]
     },
     "execution_count": 2,
     "metadata": {},
     "output_type": "execute_result"
    }
   ],
   "source": [
    "frames = [pd.read_csv(file, index_col=0) for file in glob.glob('Data/*.csv')]\n",
    "df = pd.concat(frames)\n",
    "df.head()"
   ]
  },
  {
   "cell_type": "markdown",
   "metadata": {},
   "source": [
    "We can do this either in the ship's reference frame or global reference frame as long as we do the transformations. It's the authors opinion that its easier to work in the reference frame of the ship."
   ]
  },
  {
   "cell_type": "code",
   "execution_count": 3,
   "metadata": {},
   "outputs": [
    {
     "name": "stdout",
     "output_type": "stream",
     "text": [
      "16.33204590047138 0.3759393880839431\n"
     ]
    }
   ],
   "source": [
    "df.index = np.round(df.index - df.index[0])\n",
    "cos_hdg = np.cos(np.deg2rad(df['SBG Heading2']))\n",
    "sin_hdg = np.sin(np.deg2rad(df['SBG Heading2']))\n",
    "v_east = df['SBG EKF Velocity E']\n",
    "v_north = df['SBG EKF Velocity N']\n",
    "v_lat = v_east*cos_hdg - v_north*sin_hdg\n",
    "v_fwd = v_east*sin_hdg + v_north*cos_hdg\n",
    "df['cos_hdg'] = cos_hdg\n",
    "df['sin_hdg'] = sin_hdg\n",
    "df['v_lat'] = v_lat\n",
    "df['v_fwd'] = v_fwd\n",
    "print(np.mean(v_fwd), np.mean(v_lat))"
   ]
  },
  {
   "cell_type": "markdown",
   "metadata": {},
   "source": [
    "We'll split up the dataframe into two parts that we'll concatenate later. We'll also add in categorical constants and our minimization targets"
   ]
  },
  {
   "cell_type": "code",
   "execution_count": 4,
   "metadata": {},
   "outputs": [],
   "source": [
    "df_fwd = df.copy()\n",
    "df_lat = df.copy()\n",
    "ones = np.ones(shape=v_lat.shape)\n",
    "zeros = np.zeros(shape=v_lat.shape)\n",
    "df_fwd['v_stw_fwd'] = ones\n",
    "df_fwd['v_stw_lat'] = zeros\n",
    "df_lat['v_stw_fwd'] = zeros\n",
    "df_lat['v_stw_lat'] = ones #if it can be assuemd the ship has no side slip switch this to zero, or verify with cross-validation\n",
    "df_fwd['y'] = v_fwd\n",
    "df_lat['y'] = v_lat"
   ]
  },
  {
   "cell_type": "markdown",
   "metadata": {},
   "source": [
    "And we'll add the columns needed for a constant current"
   ]
  },
  {
   "cell_type": "code",
   "execution_count": 5,
   "metadata": {},
   "outputs": [],
   "source": [
    "df_fwd['x_current'] = -1*cos_hdg\n",
    "df_fwd['y_current'] = sin_hdg\n",
    "df_lat['x_current'] = sin_hdg\n",
    "df_lat['y_current'] = cos_hdg"
   ]
  },
  {
   "cell_type": "markdown",
   "metadata": {},
   "source": [
    "If you assume the current is linearly changing, uncomment the following lines, this can be verified with cross-validation as well"
   ]
  },
  {
   "cell_type": "code",
   "execution_count": 6,
   "metadata": {},
   "outputs": [],
   "source": [
    "#df_fwd['x_current_c1'] = -1*cos_hdg*df.index\n",
    "#df_fwd['y_current_c1'] = sin_hdg*df.index\n",
    "#df_lat['x_current_c1'] = sin_hdg*df.index\n",
    "#df_lat['y_current_c1'] = cos_hdg*df.index"
   ]
  },
  {
   "cell_type": "markdown",
   "metadata": {},
   "source": [
    "We'll reconcatenate our dataframes and create our X and y"
   ]
  },
  {
   "cell_type": "code",
   "execution_count": 7,
   "metadata": {},
   "outputs": [],
   "source": [
    "df_stw = pd.concat([df_fwd, df_lat]) \n",
    "y = df_stw.loc[:, ['y']]\n",
    "columns = ['v_stw_fwd', 'v_stw_lat', 'x_current', 'y_current']\n",
    "X = df_stw.loc[:, columns]"
   ]
  },
  {
   "cell_type": "code",
   "execution_count": 8,
   "metadata": {},
   "outputs": [
    {
     "name": "stdout",
     "output_type": "stream",
     "text": [
      "v_stw_fwd: 16.31 kts\n",
      "v_stw_lat: 0.39 kts\n",
      "x_current: -0.11 kts\n",
      "y_current: -0.06 kts\n"
     ]
    }
   ],
   "source": [
    "reg = linear_model.LinearRegression(fit_intercept=False)\n",
    "reg.fit(X, y)\n",
    "for coef, col in zip(reg.coef_.tolist()[0], columns):\n",
    "    print(f\"{col}: {coef:0.2f} kts\")"
   ]
  },
  {
   "cell_type": "markdown",
   "metadata": {},
   "source": [
    "Let's calculate the uncertainty using a block bootstrap"
   ]
  },
  {
   "cell_type": "code",
   "execution_count": 9,
   "metadata": {},
   "outputs": [],
   "source": [
    "bootstrap_count = 1000\n",
    "samples = np.empty(shape=(len(columns), bootstrap_count))\n",
    "for i in range(bootstrap_count):\n",
    "    n = len(df)\n",
    "    block_size = 30\n",
    "    prob_block = 1/block_size\n",
    "    random_sample = np.random.rand(n)\n",
    "    new_idx = np.random.randint(0, n, n)\n",
    "    for k in range(1,n):\n",
    "        if random_sample[k]>prob_block:\n",
    "            new_idx[k] = new_idx[k-1] + 1\n",
    "            if new_idx[k] == n:\n",
    "                new_idx[k] = 0\n",
    "    new_idx = np.hstack([new_idx, new_idx+n-1])\n",
    "    new_X = X.iloc[new_idx, :]\n",
    "    new_y = y.iloc[new_idx, :]\n",
    "    reg = linear_model.LinearRegression(fit_intercept=False)\n",
    "    reg.fit(new_X, new_y)\n",
    "    samples[:, i] = reg.coef_"
   ]
  },
  {
   "cell_type": "code",
   "execution_count": 10,
   "metadata": {},
   "outputs": [
    {
     "name": "stdout",
     "output_type": "stream",
     "text": [
      "v_stw_fwd: 16.31 +/- 0.02 kts\n",
      "v_stw_lat: 0.39 +/- 0.03 kts\n",
      "x_current: -0.11 +/- 0.03 kts\n",
      "y_current: -0.06 +/- 0.03 kts\n"
     ]
    }
   ],
   "source": [
    "from scipy import stats\n",
    "\n",
    "for coef, col in zip(samples, columns):\n",
    "    coef_mean, coef_std = stats.norm.fit(coef)\n",
    "    print(f\"{col}: {coef_mean:0.2f} +/- {1.96*coef_std:0.2f} kts\")"
   ]
  },
  {
   "cell_type": "code",
   "execution_count": 19,
   "metadata": {},
   "outputs": [
    {
     "data": {
      "text/plain": [
       "(16.371700358819602, 0.12787046018499879)"
      ]
     },
     "execution_count": 19,
     "metadata": {},
     "output_type": "execute_result"
    }
   ],
   "source": [
    "adcp_speed = (df['ADCP_DC3_V2']+df['ADCP_DC4_V2'])/2\n",
    "adcp_speed = adcp_speed[abs(adcp_speed - np.mean(adcp_speed))< 2 * np.std(adcp_speed)]\n",
    "stats.norm.fit(adcp_speed)"
   ]
  },
  {
   "cell_type": "code",
   "execution_count": null,
   "metadata": {},
   "outputs": [],
   "source": []
  }
 ],
 "metadata": {
  "kernelspec": {
   "display_name": "Python 3",
   "language": "python",
   "name": "python3"
  },
  "language_info": {
   "codemirror_mode": {
    "name": "ipython",
    "version": 3
   },
   "file_extension": ".py",
   "mimetype": "text/x-python",
   "name": "python",
   "nbconvert_exporter": "python",
   "pygments_lexer": "ipython3",
   "version": "3.6.6"
  }
 },
 "nbformat": 4,
 "nbformat_minor": 2
}
